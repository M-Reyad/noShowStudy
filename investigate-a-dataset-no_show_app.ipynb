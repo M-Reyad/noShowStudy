{
 "cells": [
  {
   "cell_type": "markdown",
   "metadata": {},
   "source": [
    "# Project: Investigate \"No Show Appointments-2016\" Dataset \n",
    "\n",
    "## Table of Contents\n",
    "<ul>\n",
    "<li><a href=\"#intro\">Introduction</a></li>\n",
    "<li><a href=\"#wrangling\">Data Wrangling</a></li>\n",
    "<li><a href=\"#eda\">Exploratory Data Analysis</a></li>\n",
    "<li><a href=\"#conclusions\">Conclusions</a></li>\n",
    "<li><a href=\"#resources\">Resources</a></li>\n",
    "</ul>"
   ]
  },
  {
   "cell_type": "markdown",
   "metadata": {},
   "source": [
    "<a id='intro'></a>\n",
    "## Introduction\n",
    "\n",
    "Patients who fail to show up to scheduled appointments or cancel at the last minute- giving the health center no opportunity to fill the appointment slot- are often referred as **No Shows**.\n",
    "No show appointments result in loss of time and money for health center and disrupts ccontinuity of care of patients.\n",
    "\n",
    "This dataset collects information from 100k medical appointments in Brazil and is focused on the question of whether or not patients show up for their appointment. A number of characteristics about the patient are included in each row.\n",
    "\n",
    "    ● \"ScheduledDay\" tells us on what day the patient set up their appointment.\n",
    "    ● \"Neighborhood\" indicates the location of the hospital.\n",
    "    ● \"Scholarship\" indicates whether or not the patient is enrolled in Brasilian welfare program.\n",
    "    ● \"No Show\" indicates whether the patient existed in the date (No), or got abscent (Yes)\n",
    "    \n",
    "\n",
    "We will discover the main parameters that combine most of the No-Shows with the dataset, \n",
    "Whether they are male/female, the average age, their neighbourhood, scholarhip holders.\n",
    "Whether they recieved an SMS, diagnosed with any type of disease( Hipertension, Diabetes, Alcoholism, Handicapped).\n",
    "\n",
    "We will try to build the report around the analysis of at least one dependent variable(No-Show) and three independent variables."
   ]
  },
  {
   "cell_type": "code",
   "execution_count": 1,
   "metadata": {},
   "outputs": [
    {
     "data": {
      "text/html": [
       "<div>\n",
       "<style scoped>\n",
       "    .dataframe tbody tr th:only-of-type {\n",
       "        vertical-align: middle;\n",
       "    }\n",
       "\n",
       "    .dataframe tbody tr th {\n",
       "        vertical-align: top;\n",
       "    }\n",
       "\n",
       "    .dataframe thead th {\n",
       "        text-align: right;\n",
       "    }\n",
       "</style>\n",
       "<table border=\"1\" class=\"dataframe\">\n",
       "  <thead>\n",
       "    <tr style=\"text-align: right;\">\n",
       "      <th></th>\n",
       "      <th>PatientId</th>\n",
       "      <th>AppointmentID</th>\n",
       "      <th>Gender</th>\n",
       "      <th>ScheduledDay</th>\n",
       "      <th>AppointmentDay</th>\n",
       "      <th>Age</th>\n",
       "      <th>Neighbourhood</th>\n",
       "      <th>Scholarship</th>\n",
       "      <th>Hipertension</th>\n",
       "      <th>Diabetes</th>\n",
       "      <th>Alcoholism</th>\n",
       "      <th>Handcap</th>\n",
       "      <th>SMS_received</th>\n",
       "      <th>No-show</th>\n",
       "    </tr>\n",
       "  </thead>\n",
       "  <tbody>\n",
       "    <tr>\n",
       "      <th>0</th>\n",
       "      <td>29872499824296</td>\n",
       "      <td>5642903</td>\n",
       "      <td>F</td>\n",
       "      <td>2016-04-29T18:38:08Z</td>\n",
       "      <td>2016-04-29T00:00:00Z</td>\n",
       "      <td>62</td>\n",
       "      <td>JARDIM DA PENHA</td>\n",
       "      <td>0</td>\n",
       "      <td>1</td>\n",
       "      <td>0</td>\n",
       "      <td>0</td>\n",
       "      <td>0</td>\n",
       "      <td>0</td>\n",
       "      <td>No</td>\n",
       "    </tr>\n",
       "    <tr>\n",
       "      <th>1</th>\n",
       "      <td>558997776694438</td>\n",
       "      <td>5642503</td>\n",
       "      <td>M</td>\n",
       "      <td>2016-04-29T16:08:27Z</td>\n",
       "      <td>2016-04-29T00:00:00Z</td>\n",
       "      <td>56</td>\n",
       "      <td>JARDIM DA PENHA</td>\n",
       "      <td>0</td>\n",
       "      <td>0</td>\n",
       "      <td>0</td>\n",
       "      <td>0</td>\n",
       "      <td>0</td>\n",
       "      <td>0</td>\n",
       "      <td>No</td>\n",
       "    </tr>\n",
       "    <tr>\n",
       "      <th>2</th>\n",
       "      <td>4262962299951</td>\n",
       "      <td>5642549</td>\n",
       "      <td>F</td>\n",
       "      <td>2016-04-29T16:19:04Z</td>\n",
       "      <td>2016-04-29T00:00:00Z</td>\n",
       "      <td>62</td>\n",
       "      <td>MATA DA PRAIA</td>\n",
       "      <td>0</td>\n",
       "      <td>0</td>\n",
       "      <td>0</td>\n",
       "      <td>0</td>\n",
       "      <td>0</td>\n",
       "      <td>0</td>\n",
       "      <td>No</td>\n",
       "    </tr>\n",
       "    <tr>\n",
       "      <th>3</th>\n",
       "      <td>867951213174</td>\n",
       "      <td>5642828</td>\n",
       "      <td>F</td>\n",
       "      <td>2016-04-29T17:29:31Z</td>\n",
       "      <td>2016-04-29T00:00:00Z</td>\n",
       "      <td>8</td>\n",
       "      <td>PONTAL DE CAMBURI</td>\n",
       "      <td>0</td>\n",
       "      <td>0</td>\n",
       "      <td>0</td>\n",
       "      <td>0</td>\n",
       "      <td>0</td>\n",
       "      <td>0</td>\n",
       "      <td>No</td>\n",
       "    </tr>\n",
       "    <tr>\n",
       "      <th>4</th>\n",
       "      <td>8841186448183</td>\n",
       "      <td>5642494</td>\n",
       "      <td>F</td>\n",
       "      <td>2016-04-29T16:07:23Z</td>\n",
       "      <td>2016-04-29T00:00:00Z</td>\n",
       "      <td>56</td>\n",
       "      <td>JARDIM DA PENHA</td>\n",
       "      <td>0</td>\n",
       "      <td>1</td>\n",
       "      <td>1</td>\n",
       "      <td>0</td>\n",
       "      <td>0</td>\n",
       "      <td>0</td>\n",
       "      <td>No</td>\n",
       "    </tr>\n",
       "  </tbody>\n",
       "</table>\n",
       "</div>"
      ],
      "text/plain": [
       "         PatientId  AppointmentID Gender          ScheduledDay  \\\n",
       "0   29872499824296        5642903      F  2016-04-29T18:38:08Z   \n",
       "1  558997776694438        5642503      M  2016-04-29T16:08:27Z   \n",
       "2    4262962299951        5642549      F  2016-04-29T16:19:04Z   \n",
       "3     867951213174        5642828      F  2016-04-29T17:29:31Z   \n",
       "4    8841186448183        5642494      F  2016-04-29T16:07:23Z   \n",
       "\n",
       "         AppointmentDay  Age      Neighbourhood  Scholarship  Hipertension  \\\n",
       "0  2016-04-29T00:00:00Z   62    JARDIM DA PENHA            0             1   \n",
       "1  2016-04-29T00:00:00Z   56    JARDIM DA PENHA            0             0   \n",
       "2  2016-04-29T00:00:00Z   62      MATA DA PRAIA            0             0   \n",
       "3  2016-04-29T00:00:00Z    8  PONTAL DE CAMBURI            0             0   \n",
       "4  2016-04-29T00:00:00Z   56    JARDIM DA PENHA            0             1   \n",
       "\n",
       "   Diabetes  Alcoholism  Handcap  SMS_received No-show  \n",
       "0         0           0        0             0      No  \n",
       "1         0           0        0             0      No  \n",
       "2         0           0        0             0      No  \n",
       "3         0           0        0             0      No  \n",
       "4         1           0        0             0      No  "
      ]
     },
     "execution_count": 1,
     "metadata": {},
     "output_type": "execute_result"
    }
   ],
   "source": [
    "import numpy as np\n",
    "import pandas as pd\n",
    "import matplotlib.pyplot as plt\n",
    "import seaborn as sns\n",
    "sns.set_style('darkgrid')\n",
    "%matplotlib inline\n",
    "\n",
    "df = pd.read_csv(\"noshowappointments-2016.csv\")\n",
    "df.head()\n"
   ]
  },
  {
   "cell_type": "markdown",
   "metadata": {},
   "source": [
    "<a id='wrangling'></a>\n",
    "## Data Wrangling\n",
    "\n",
    "\n",
    "### General Properties"
   ]
  },
  {
   "cell_type": "markdown",
   "metadata": {},
   "source": [
    "We wouldn't need such useless data (PatientID, AppointmentID) so we will drop them"
   ]
  },
  {
   "cell_type": "code",
   "execution_count": 2,
   "metadata": {
    "scrolled": true
   },
   "outputs": [
    {
     "data": {
      "text/html": [
       "<div>\n",
       "<style scoped>\n",
       "    .dataframe tbody tr th:only-of-type {\n",
       "        vertical-align: middle;\n",
       "    }\n",
       "\n",
       "    .dataframe tbody tr th {\n",
       "        vertical-align: top;\n",
       "    }\n",
       "\n",
       "    .dataframe thead th {\n",
       "        text-align: right;\n",
       "    }\n",
       "</style>\n",
       "<table border=\"1\" class=\"dataframe\">\n",
       "  <thead>\n",
       "    <tr style=\"text-align: right;\">\n",
       "      <th></th>\n",
       "      <th>Gender</th>\n",
       "      <th>ScheduledDay</th>\n",
       "      <th>AppointmentDay</th>\n",
       "      <th>Age</th>\n",
       "      <th>Neighbourhood</th>\n",
       "      <th>Scholarship</th>\n",
       "      <th>Hipertension</th>\n",
       "      <th>Diabetes</th>\n",
       "      <th>Alcoholism</th>\n",
       "      <th>Handcap</th>\n",
       "      <th>SMS_received</th>\n",
       "      <th>No-show</th>\n",
       "    </tr>\n",
       "  </thead>\n",
       "  <tbody>\n",
       "    <tr>\n",
       "      <th>0</th>\n",
       "      <td>F</td>\n",
       "      <td>2016-04-29T18:38:08Z</td>\n",
       "      <td>2016-04-29T00:00:00Z</td>\n",
       "      <td>62</td>\n",
       "      <td>JARDIM DA PENHA</td>\n",
       "      <td>0</td>\n",
       "      <td>1</td>\n",
       "      <td>0</td>\n",
       "      <td>0</td>\n",
       "      <td>0</td>\n",
       "      <td>0</td>\n",
       "      <td>No</td>\n",
       "    </tr>\n",
       "    <tr>\n",
       "      <th>1</th>\n",
       "      <td>M</td>\n",
       "      <td>2016-04-29T16:08:27Z</td>\n",
       "      <td>2016-04-29T00:00:00Z</td>\n",
       "      <td>56</td>\n",
       "      <td>JARDIM DA PENHA</td>\n",
       "      <td>0</td>\n",
       "      <td>0</td>\n",
       "      <td>0</td>\n",
       "      <td>0</td>\n",
       "      <td>0</td>\n",
       "      <td>0</td>\n",
       "      <td>No</td>\n",
       "    </tr>\n",
       "    <tr>\n",
       "      <th>2</th>\n",
       "      <td>F</td>\n",
       "      <td>2016-04-29T16:19:04Z</td>\n",
       "      <td>2016-04-29T00:00:00Z</td>\n",
       "      <td>62</td>\n",
       "      <td>MATA DA PRAIA</td>\n",
       "      <td>0</td>\n",
       "      <td>0</td>\n",
       "      <td>0</td>\n",
       "      <td>0</td>\n",
       "      <td>0</td>\n",
       "      <td>0</td>\n",
       "      <td>No</td>\n",
       "    </tr>\n",
       "    <tr>\n",
       "      <th>3</th>\n",
       "      <td>F</td>\n",
       "      <td>2016-04-29T17:29:31Z</td>\n",
       "      <td>2016-04-29T00:00:00Z</td>\n",
       "      <td>8</td>\n",
       "      <td>PONTAL DE CAMBURI</td>\n",
       "      <td>0</td>\n",
       "      <td>0</td>\n",
       "      <td>0</td>\n",
       "      <td>0</td>\n",
       "      <td>0</td>\n",
       "      <td>0</td>\n",
       "      <td>No</td>\n",
       "    </tr>\n",
       "    <tr>\n",
       "      <th>4</th>\n",
       "      <td>F</td>\n",
       "      <td>2016-04-29T16:07:23Z</td>\n",
       "      <td>2016-04-29T00:00:00Z</td>\n",
       "      <td>56</td>\n",
       "      <td>JARDIM DA PENHA</td>\n",
       "      <td>0</td>\n",
       "      <td>1</td>\n",
       "      <td>1</td>\n",
       "      <td>0</td>\n",
       "      <td>0</td>\n",
       "      <td>0</td>\n",
       "      <td>No</td>\n",
       "    </tr>\n",
       "  </tbody>\n",
       "</table>\n",
       "</div>"
      ],
      "text/plain": [
       "  Gender          ScheduledDay        AppointmentDay  Age      Neighbourhood  \\\n",
       "0      F  2016-04-29T18:38:08Z  2016-04-29T00:00:00Z   62    JARDIM DA PENHA   \n",
       "1      M  2016-04-29T16:08:27Z  2016-04-29T00:00:00Z   56    JARDIM DA PENHA   \n",
       "2      F  2016-04-29T16:19:04Z  2016-04-29T00:00:00Z   62      MATA DA PRAIA   \n",
       "3      F  2016-04-29T17:29:31Z  2016-04-29T00:00:00Z    8  PONTAL DE CAMBURI   \n",
       "4      F  2016-04-29T16:07:23Z  2016-04-29T00:00:00Z   56    JARDIM DA PENHA   \n",
       "\n",
       "   Scholarship  Hipertension  Diabetes  Alcoholism  Handcap  SMS_received  \\\n",
       "0            0             1         0           0        0             0   \n",
       "1            0             0         0           0        0             0   \n",
       "2            0             0         0           0        0             0   \n",
       "3            0             0         0           0        0             0   \n",
       "4            0             1         1           0        0             0   \n",
       "\n",
       "  No-show  \n",
       "0      No  \n",
       "1      No  \n",
       "2      No  \n",
       "3      No  \n",
       "4      No  "
      ]
     },
     "execution_count": 2,
     "metadata": {},
     "output_type": "execute_result"
    }
   ],
   "source": [
    "df.drop([\"PatientId\", \"AppointmentID\"], axis = 1, inplace = True)\n",
    "df.head()"
   ]
  },
  {
   "cell_type": "markdown",
   "metadata": {},
   "source": [
    "As **\"No Show\"** the main parameter to be explored, we need to make sure that it has only two Uniques values; [\"Yes\", \"No\"], so we will check for that, beside checking for other values uniques:-"
   ]
  },
  {
   "cell_type": "code",
   "execution_count": 3,
   "metadata": {
    "scrolled": false
   },
   "outputs": [
    {
     "data": {
      "text/plain": [
       "Gender                 2\n",
       "ScheduledDay      103549\n",
       "AppointmentDay        27\n",
       "Age                  104\n",
       "Neighbourhood         81\n",
       "Scholarship            2\n",
       "Hipertension           2\n",
       "Diabetes               2\n",
       "Alcoholism             2\n",
       "Handcap                5\n",
       "SMS_received           2\n",
       "No-show                2\n",
       "dtype: int64"
      ]
     },
     "execution_count": 3,
     "metadata": {},
     "output_type": "execute_result"
    }
   ],
   "source": [
    "df.nunique()"
   ]
  },
  {
   "cell_type": "markdown",
   "metadata": {},
   "source": [
    "Great, the unique values seem to be adequate."
   ]
  },
  {
   "cell_type": "markdown",
   "metadata": {},
   "source": [
    "Now we will begin discovering our DataSet with some describe( ) , info( ) function"
   ]
  },
  {
   "cell_type": "code",
   "execution_count": 4,
   "metadata": {},
   "outputs": [
    {
     "name": "stdout",
     "output_type": "stream",
     "text": [
      "<class 'pandas.core.frame.DataFrame'>\n",
      "RangeIndex: 110527 entries, 0 to 110526\n",
      "Data columns (total 12 columns):\n",
      " #   Column          Non-Null Count   Dtype \n",
      "---  ------          --------------   ----- \n",
      " 0   Gender          110527 non-null  object\n",
      " 1   ScheduledDay    110527 non-null  object\n",
      " 2   AppointmentDay  110527 non-null  object\n",
      " 3   Age             110527 non-null  int64 \n",
      " 4   Neighbourhood   110527 non-null  object\n",
      " 5   Scholarship     110527 non-null  int64 \n",
      " 6   Hipertension    110527 non-null  int64 \n",
      " 7   Diabetes        110527 non-null  int64 \n",
      " 8   Alcoholism      110527 non-null  int64 \n",
      " 9   Handcap         110527 non-null  int64 \n",
      " 10  SMS_received    110527 non-null  int64 \n",
      " 11  No-show         110527 non-null  object\n",
      "dtypes: int64(7), object(5)\n",
      "memory usage: 10.1+ MB\n"
     ]
    }
   ],
   "source": [
    "df.info();"
   ]
  },
  {
   "cell_type": "markdown",
   "metadata": {},
   "source": [
    "Fortunately we don't have any missing Cells. Also the datatypes for all cells are adequate and don't need to be converted."
   ]
  },
  {
   "cell_type": "markdown",
   "metadata": {},
   "source": [
    "We also need to check if there are any Duplicates!"
   ]
  },
  {
   "cell_type": "code",
   "execution_count": 5,
   "metadata": {
    "scrolled": true
   },
   "outputs": [
    {
     "data": {
      "text/plain": [
       "635"
      ]
     },
     "execution_count": 5,
     "metadata": {},
     "output_type": "execute_result"
    }
   ],
   "source": [
    "df.duplicated().sum()"
   ]
  },
  {
   "cell_type": "markdown",
   "metadata": {},
   "source": [
    "We have found **635 duplicates** which we need to remove in the Cleaning Section!\n",
    "\n",
    "Let's now discover more stats about the DataFrame "
   ]
  },
  {
   "cell_type": "code",
   "execution_count": 6,
   "metadata": {},
   "outputs": [
    {
     "data": {
      "text/html": [
       "<div>\n",
       "<style scoped>\n",
       "    .dataframe tbody tr th:only-of-type {\n",
       "        vertical-align: middle;\n",
       "    }\n",
       "\n",
       "    .dataframe tbody tr th {\n",
       "        vertical-align: top;\n",
       "    }\n",
       "\n",
       "    .dataframe thead th {\n",
       "        text-align: right;\n",
       "    }\n",
       "</style>\n",
       "<table border=\"1\" class=\"dataframe\">\n",
       "  <thead>\n",
       "    <tr style=\"text-align: right;\">\n",
       "      <th></th>\n",
       "      <th>Age</th>\n",
       "      <th>Scholarship</th>\n",
       "      <th>Hipertension</th>\n",
       "      <th>Diabetes</th>\n",
       "      <th>Alcoholism</th>\n",
       "      <th>Handcap</th>\n",
       "      <th>SMS_received</th>\n",
       "    </tr>\n",
       "  </thead>\n",
       "  <tbody>\n",
       "    <tr>\n",
       "      <th>count</th>\n",
       "      <td>110527.000000</td>\n",
       "      <td>110527.000000</td>\n",
       "      <td>110527.000000</td>\n",
       "      <td>110527.000000</td>\n",
       "      <td>110527.000000</td>\n",
       "      <td>110527.000000</td>\n",
       "      <td>110527.000000</td>\n",
       "    </tr>\n",
       "    <tr>\n",
       "      <th>mean</th>\n",
       "      <td>37.088874</td>\n",
       "      <td>0.098266</td>\n",
       "      <td>0.197246</td>\n",
       "      <td>0.071865</td>\n",
       "      <td>0.030400</td>\n",
       "      <td>0.022248</td>\n",
       "      <td>0.321026</td>\n",
       "    </tr>\n",
       "    <tr>\n",
       "      <th>std</th>\n",
       "      <td>23.110205</td>\n",
       "      <td>0.297675</td>\n",
       "      <td>0.397921</td>\n",
       "      <td>0.258265</td>\n",
       "      <td>0.171686</td>\n",
       "      <td>0.161543</td>\n",
       "      <td>0.466873</td>\n",
       "    </tr>\n",
       "    <tr>\n",
       "      <th>min</th>\n",
       "      <td>-1.000000</td>\n",
       "      <td>0.000000</td>\n",
       "      <td>0.000000</td>\n",
       "      <td>0.000000</td>\n",
       "      <td>0.000000</td>\n",
       "      <td>0.000000</td>\n",
       "      <td>0.000000</td>\n",
       "    </tr>\n",
       "    <tr>\n",
       "      <th>25%</th>\n",
       "      <td>18.000000</td>\n",
       "      <td>0.000000</td>\n",
       "      <td>0.000000</td>\n",
       "      <td>0.000000</td>\n",
       "      <td>0.000000</td>\n",
       "      <td>0.000000</td>\n",
       "      <td>0.000000</td>\n",
       "    </tr>\n",
       "    <tr>\n",
       "      <th>50%</th>\n",
       "      <td>37.000000</td>\n",
       "      <td>0.000000</td>\n",
       "      <td>0.000000</td>\n",
       "      <td>0.000000</td>\n",
       "      <td>0.000000</td>\n",
       "      <td>0.000000</td>\n",
       "      <td>0.000000</td>\n",
       "    </tr>\n",
       "    <tr>\n",
       "      <th>75%</th>\n",
       "      <td>55.000000</td>\n",
       "      <td>0.000000</td>\n",
       "      <td>0.000000</td>\n",
       "      <td>0.000000</td>\n",
       "      <td>0.000000</td>\n",
       "      <td>0.000000</td>\n",
       "      <td>1.000000</td>\n",
       "    </tr>\n",
       "    <tr>\n",
       "      <th>max</th>\n",
       "      <td>115.000000</td>\n",
       "      <td>1.000000</td>\n",
       "      <td>1.000000</td>\n",
       "      <td>1.000000</td>\n",
       "      <td>1.000000</td>\n",
       "      <td>4.000000</td>\n",
       "      <td>1.000000</td>\n",
       "    </tr>\n",
       "  </tbody>\n",
       "</table>\n",
       "</div>"
      ],
      "text/plain": [
       "                 Age    Scholarship   Hipertension       Diabetes  \\\n",
       "count  110527.000000  110527.000000  110527.000000  110527.000000   \n",
       "mean       37.088874       0.098266       0.197246       0.071865   \n",
       "std        23.110205       0.297675       0.397921       0.258265   \n",
       "min        -1.000000       0.000000       0.000000       0.000000   \n",
       "25%        18.000000       0.000000       0.000000       0.000000   \n",
       "50%        37.000000       0.000000       0.000000       0.000000   \n",
       "75%        55.000000       0.000000       0.000000       0.000000   \n",
       "max       115.000000       1.000000       1.000000       1.000000   \n",
       "\n",
       "          Alcoholism        Handcap   SMS_received  \n",
       "count  110527.000000  110527.000000  110527.000000  \n",
       "mean        0.030400       0.022248       0.321026  \n",
       "std         0.171686       0.161543       0.466873  \n",
       "min         0.000000       0.000000       0.000000  \n",
       "25%         0.000000       0.000000       0.000000  \n",
       "50%         0.000000       0.000000       0.000000  \n",
       "75%         0.000000       0.000000       1.000000  \n",
       "max         1.000000       4.000000       1.000000  "
      ]
     },
     "execution_count": 6,
     "metadata": {},
     "output_type": "execute_result"
    }
   ],
   "source": [
    "df.describe()"
   ]
  },
  {
   "cell_type": "markdown",
   "metadata": {},
   "source": [
    "Here we find that the Average Age that we are dealing with is 37 years old, with a range of (-1 : 115)!! This means that we need to discover the ages in details to check if there is someone who is -1 years old! :D\n",
    "\n",
    "We will need to drop any row with 'Age' less than 0"
   ]
  },
  {
   "cell_type": "markdown",
   "metadata": {},
   "source": [
    "### Data Cleaning"
   ]
  },
  {
   "cell_type": "markdown",
   "metadata": {},
   "source": [
    "Let's begin with removing Duplicates firstly:"
   ]
  },
  {
   "cell_type": "code",
   "execution_count": 7,
   "metadata": {
    "scrolled": true
   },
   "outputs": [
    {
     "data": {
      "text/plain": [
       "0"
      ]
     },
     "execution_count": 7,
     "metadata": {},
     "output_type": "execute_result"
    }
   ],
   "source": [
    "##Using Drop Duplicates Method to drop Duplicates\n",
    "df.drop_duplicates(inplace = True)\n",
    "df.duplicated().sum()"
   ]
  },
  {
   "cell_type": "markdown",
   "metadata": {},
   "source": [
    "Great, now let's solve the problem of -ve Age!!"
   ]
  },
  {
   "cell_type": "code",
   "execution_count": 8,
   "metadata": {},
   "outputs": [
    {
     "data": {
      "text/html": [
       "<div>\n",
       "<style scoped>\n",
       "    .dataframe tbody tr th:only-of-type {\n",
       "        vertical-align: middle;\n",
       "    }\n",
       "\n",
       "    .dataframe tbody tr th {\n",
       "        vertical-align: top;\n",
       "    }\n",
       "\n",
       "    .dataframe thead th {\n",
       "        text-align: right;\n",
       "    }\n",
       "</style>\n",
       "<table border=\"1\" class=\"dataframe\">\n",
       "  <thead>\n",
       "    <tr style=\"text-align: right;\">\n",
       "      <th></th>\n",
       "      <th>Gender</th>\n",
       "      <th>ScheduledDay</th>\n",
       "      <th>AppointmentDay</th>\n",
       "      <th>Age</th>\n",
       "      <th>Neighbourhood</th>\n",
       "      <th>Scholarship</th>\n",
       "      <th>Hipertension</th>\n",
       "      <th>Diabetes</th>\n",
       "      <th>Alcoholism</th>\n",
       "      <th>Handcap</th>\n",
       "      <th>SMS_received</th>\n",
       "      <th>No-show</th>\n",
       "    </tr>\n",
       "  </thead>\n",
       "  <tbody>\n",
       "    <tr>\n",
       "      <th>99832</th>\n",
       "      <td>F</td>\n",
       "      <td>2016-06-06T08:58:13Z</td>\n",
       "      <td>2016-06-06T00:00:00Z</td>\n",
       "      <td>-1</td>\n",
       "      <td>ROMÃO</td>\n",
       "      <td>0</td>\n",
       "      <td>0</td>\n",
       "      <td>0</td>\n",
       "      <td>0</td>\n",
       "      <td>0</td>\n",
       "      <td>0</td>\n",
       "      <td>No</td>\n",
       "    </tr>\n",
       "  </tbody>\n",
       "</table>\n",
       "</div>"
      ],
      "text/plain": [
       "      Gender          ScheduledDay        AppointmentDay  Age Neighbourhood  \\\n",
       "99832      F  2016-06-06T08:58:13Z  2016-06-06T00:00:00Z   -1         ROMÃO   \n",
       "\n",
       "       Scholarship  Hipertension  Diabetes  Alcoholism  Handcap  SMS_received  \\\n",
       "99832            0             0         0           0        0             0   \n",
       "\n",
       "      No-show  \n",
       "99832      No  "
      ]
     },
     "execution_count": 8,
     "metadata": {},
     "output_type": "execute_result"
    }
   ],
   "source": [
    "## Analyzing the -ve Age rows\n",
    "df[df['Age'] <0]"
   ]
  },
  {
   "cell_type": "code",
   "execution_count": 9,
   "metadata": {
    "scrolled": true
   },
   "outputs": [
    {
     "data": {
      "text/html": [
       "<div>\n",
       "<style scoped>\n",
       "    .dataframe tbody tr th:only-of-type {\n",
       "        vertical-align: middle;\n",
       "    }\n",
       "\n",
       "    .dataframe tbody tr th {\n",
       "        vertical-align: top;\n",
       "    }\n",
       "\n",
       "    .dataframe thead th {\n",
       "        text-align: right;\n",
       "    }\n",
       "</style>\n",
       "<table border=\"1\" class=\"dataframe\">\n",
       "  <thead>\n",
       "    <tr style=\"text-align: right;\">\n",
       "      <th></th>\n",
       "      <th>Age</th>\n",
       "      <th>Scholarship</th>\n",
       "      <th>Hipertension</th>\n",
       "      <th>Diabetes</th>\n",
       "      <th>Alcoholism</th>\n",
       "      <th>Handcap</th>\n",
       "      <th>SMS_received</th>\n",
       "    </tr>\n",
       "  </thead>\n",
       "  <tbody>\n",
       "    <tr>\n",
       "      <th>count</th>\n",
       "      <td>109891.000000</td>\n",
       "      <td>109891.000000</td>\n",
       "      <td>109891.000000</td>\n",
       "      <td>109891.000000</td>\n",
       "      <td>109891.000000</td>\n",
       "      <td>109891.000000</td>\n",
       "      <td>109891.000000</td>\n",
       "    </tr>\n",
       "    <tr>\n",
       "      <th>mean</th>\n",
       "      <td>37.089853</td>\n",
       "      <td>0.098288</td>\n",
       "      <td>0.197250</td>\n",
       "      <td>0.071826</td>\n",
       "      <td>0.030430</td>\n",
       "      <td>0.022131</td>\n",
       "      <td>0.322884</td>\n",
       "    </tr>\n",
       "    <tr>\n",
       "      <th>std</th>\n",
       "      <td>23.121015</td>\n",
       "      <td>0.297705</td>\n",
       "      <td>0.397924</td>\n",
       "      <td>0.258200</td>\n",
       "      <td>0.171769</td>\n",
       "      <td>0.160879</td>\n",
       "      <td>0.467581</td>\n",
       "    </tr>\n",
       "    <tr>\n",
       "      <th>min</th>\n",
       "      <td>0.000000</td>\n",
       "      <td>0.000000</td>\n",
       "      <td>0.000000</td>\n",
       "      <td>0.000000</td>\n",
       "      <td>0.000000</td>\n",
       "      <td>0.000000</td>\n",
       "      <td>0.000000</td>\n",
       "    </tr>\n",
       "    <tr>\n",
       "      <th>25%</th>\n",
       "      <td>18.000000</td>\n",
       "      <td>0.000000</td>\n",
       "      <td>0.000000</td>\n",
       "      <td>0.000000</td>\n",
       "      <td>0.000000</td>\n",
       "      <td>0.000000</td>\n",
       "      <td>0.000000</td>\n",
       "    </tr>\n",
       "    <tr>\n",
       "      <th>50%</th>\n",
       "      <td>37.000000</td>\n",
       "      <td>0.000000</td>\n",
       "      <td>0.000000</td>\n",
       "      <td>0.000000</td>\n",
       "      <td>0.000000</td>\n",
       "      <td>0.000000</td>\n",
       "      <td>0.000000</td>\n",
       "    </tr>\n",
       "    <tr>\n",
       "      <th>75%</th>\n",
       "      <td>55.000000</td>\n",
       "      <td>0.000000</td>\n",
       "      <td>0.000000</td>\n",
       "      <td>0.000000</td>\n",
       "      <td>0.000000</td>\n",
       "      <td>0.000000</td>\n",
       "      <td>1.000000</td>\n",
       "    </tr>\n",
       "    <tr>\n",
       "      <th>max</th>\n",
       "      <td>115.000000</td>\n",
       "      <td>1.000000</td>\n",
       "      <td>1.000000</td>\n",
       "      <td>1.000000</td>\n",
       "      <td>1.000000</td>\n",
       "      <td>4.000000</td>\n",
       "      <td>1.000000</td>\n",
       "    </tr>\n",
       "  </tbody>\n",
       "</table>\n",
       "</div>"
      ],
      "text/plain": [
       "                 Age    Scholarship   Hipertension       Diabetes  \\\n",
       "count  109891.000000  109891.000000  109891.000000  109891.000000   \n",
       "mean       37.089853       0.098288       0.197250       0.071826   \n",
       "std        23.121015       0.297705       0.397924       0.258200   \n",
       "min         0.000000       0.000000       0.000000       0.000000   \n",
       "25%        18.000000       0.000000       0.000000       0.000000   \n",
       "50%        37.000000       0.000000       0.000000       0.000000   \n",
       "75%        55.000000       0.000000       0.000000       0.000000   \n",
       "max       115.000000       1.000000       1.000000       1.000000   \n",
       "\n",
       "          Alcoholism        Handcap   SMS_received  \n",
       "count  109891.000000  109891.000000  109891.000000  \n",
       "mean        0.030430       0.022131       0.322884  \n",
       "std         0.171769       0.160879       0.467581  \n",
       "min         0.000000       0.000000       0.000000  \n",
       "25%         0.000000       0.000000       0.000000  \n",
       "50%         0.000000       0.000000       0.000000  \n",
       "75%         0.000000       0.000000       1.000000  \n",
       "max         1.000000       4.000000       1.000000  "
      ]
     },
     "execution_count": 9,
     "metadata": {},
     "output_type": "execute_result"
    }
   ],
   "source": [
    "## Using Drop Method to drop -ve age\n",
    "df.drop(df[df['Age']< 0].index, inplace = True)\n",
    "df.describe()"
   ]
  },
  {
   "cell_type": "markdown",
   "metadata": {},
   "source": [
    "Now we have the data clean, with age range from 0 to 115 and with a mean 37 years old\n",
    "\n",
    "Let's recheck for any Nan Values with the following isnull( ) function"
   ]
  },
  {
   "cell_type": "code",
   "execution_count": 10,
   "metadata": {
    "scrolled": true
   },
   "outputs": [
    {
     "data": {
      "text/plain": [
       "Gender            0\n",
       "ScheduledDay      0\n",
       "AppointmentDay    0\n",
       "Age               0\n",
       "Neighbourhood     0\n",
       "Scholarship       0\n",
       "Hipertension      0\n",
       "Diabetes          0\n",
       "Alcoholism        0\n",
       "Handcap           0\n",
       "SMS_received      0\n",
       "No-show           0\n",
       "dtype: int64"
      ]
     },
     "execution_count": 10,
     "metadata": {},
     "output_type": "execute_result"
    }
   ],
   "source": [
    "df.isnull().sum()"
   ]
  },
  {
   "cell_type": "markdown",
   "metadata": {},
   "source": [
    "<a id='eda'></a>\n",
    "## Exploratory Data Analysis\n",
    "\n",
    "\n",
    "### Research Question 1 \n",
    "\n",
    "#### Does the gender of the patient has any relation for being No Show, Which gender tends to show higher range of No Show?"
   ]
  },
  {
   "cell_type": "markdown",
   "metadata": {},
   "source": [
    "First, we need to query the dataframe with the gender"
   ]
  },
  {
   "cell_type": "code",
   "execution_count": 11,
   "metadata": {},
   "outputs": [],
   "source": [
    "def create_my_df(dataFrame,column, value):\n",
    "    return dataFrame[dataFrame[column] == value]"
   ]
  },
  {
   "cell_type": "code",
   "execution_count": 12,
   "metadata": {},
   "outputs": [
    {
     "data": {
      "text/plain": [
       "(38475, 12)"
      ]
     },
     "execution_count": 12,
     "metadata": {},
     "output_type": "execute_result"
    }
   ],
   "source": [
    "##Using Query Method to generate the Male DF\n",
    "df_m = create_my_df(df, 'Gender', 'M')\n",
    "df_m.shape"
   ]
  },
  {
   "cell_type": "code",
   "execution_count": 13,
   "metadata": {},
   "outputs": [
    {
     "name": "stdout",
     "output_type": "stream",
     "text": [
      "Males Count 38475\n"
     ]
    }
   ],
   "source": [
    "m_count = len(df_m)\n",
    "print(\"Males Count {}\".format(m_count))"
   ]
  },
  {
   "cell_type": "code",
   "execution_count": 20,
   "metadata": {
    "scrolled": false
   },
   "outputs": [
    {
     "name": "stdout",
     "output_type": "stream",
     "text": [
      "Males that are No Show counts 7643\n",
      "While Males that are Showed up counts 30832\n"
     ]
    }
   ],
   "source": [
    "## Creating DF for Males with No Show\n",
    "m_yes_count = len(create_my_df(df_m, 'No-show', 'Yes'))\n",
    "## Creating DF for Males without No Show\n",
    "m_no_count =len(create_my_df(df_m, 'No-show', 'No'))\n",
    "print('Males that are No Show counts {}'.format(m_yes_count))\n",
    "print('While Males that are Showed up counts {}'.format(m_no_count))"
   ]
  },
  {
   "cell_type": "markdown",
   "metadata": {},
   "source": [
    "Here we find that males that were marked as **No Show**; didn't present in the reserved time are 7725\n",
    "\n",
    "While the males that did presented in the appointment time are 30962"
   ]
  },
  {
   "cell_type": "code",
   "execution_count": 21,
   "metadata": {
    "scrolled": false
   },
   "outputs": [
    {
     "data": {
      "text/plain": [
       "(71416, 12)"
      ]
     },
     "execution_count": 21,
     "metadata": {},
     "output_type": "execute_result"
    }
   ],
   "source": [
    "## Using Query Method to Create Females DF\n",
    "df_f = df.query('Gender == \"F\"')\n",
    "df_f.shape"
   ]
  },
  {
   "cell_type": "code",
   "execution_count": 22,
   "metadata": {},
   "outputs": [
    {
     "name": "stdout",
     "output_type": "stream",
     "text": [
      "Females Count 71416\n"
     ]
    }
   ],
   "source": [
    "f_count = len(df_f)\n",
    "print(\"Females Count {}\".format(f_count))"
   ]
  },
  {
   "cell_type": "code",
   "execution_count": 23,
   "metadata": {},
   "outputs": [
    {
     "name": "stdout",
     "output_type": "stream",
     "text": [
      "Females that are No Show counts 14455\n",
      "While Females that are Showed up counts 56961\n"
     ]
    }
   ],
   "source": [
    "## Creating DF for female with No Show\n",
    "f_yes_count = len(df_f[df_f['No-show'] == 'Yes'])\n",
    "## Creating DF for female without No Show\n",
    "f_no_count = len(df_f[df_f['No-show'] == 'No'])\n",
    "print('Females that are No Show counts {}'.format(f_yes_count))\n",
    "print('While Females that are Showed up counts {}'.format(f_no_count))"
   ]
  },
  {
   "cell_type": "markdown",
   "metadata": {},
   "source": [
    "Here we find that females that were marked as **No Show**; didn't present in the reserved time are 14594\n",
    "\n",
    "While the females that did presented in the appointment time are 57245"
   ]
  },
  {
   "cell_type": "code",
   "execution_count": 24,
   "metadata": {
    "scrolled": true
   },
   "outputs": [
    {
     "data": {
      "image/png": "[encoded data removed]",
      "text/plain": [
       "<Figure size 288x360 with 1 Axes>"
      ]
     },
     "metadata": {
      "needs_background": "light"
     },
     "output_type": "display_data"
    }
   ],
   "source": [
    "## Plotting Bar Chart showing No Show Male/Female Counts\n",
    "fig = plt.subplots(figsize =(4, 5))\n",
    "\n",
    "yes = [m_yes_count, f_yes_count]\n",
    "no = [m_no_count, f_no_count]\n",
    "width = 0.25\n",
    "yes_br = np.arange(len(yes))\n",
    "no_br = [x + width for x in yes_br]\n",
    "plt.bar(yes_br, yes, color = 'r', width = width, edgecolor = 'grey',alpha=.7, label = 'No Show')\n",
    "plt.bar(no_br, no, color = 'w', width = width , edgecolor = 'grey',alpha=.7, label = 'Attended')\n",
    "plt.xticks([r + width/2 for r in range(len(yes))], ['Male', 'Female'])\n",
    "plt.legend(loc='center left', bbox_to_anchor=(1, 0.5),title=\"Gender\", title_fontsize = 12);\n",
    "plt.title('Count of No Show Genders'.title(),fontsize = 14, weight = \"bold\")\n",
    "plt.xlabel('Gender'.title(),fontsize = 10, weight = \"bold\")\n",
    "plt.ylabel('Counts'.title(),fontsize = 10, weight = \"bold\")\n",
    "plt.show();"
   ]
  },
  {
   "cell_type": "markdown",
   "metadata": {
    "collapsed": true
   },
   "source": [
    "The previous statistic might be tricky! As the total number of canceled visits doesn't have an adequate percentage for the whole number of the gender, you can notice that Males counts 38687, while Females counts 71839, which means that female counts approximately the double of Males Count.\n",
    "\n",
    "In other words, to have a meaningful statistic we need to calculate the percentage of **No Show-gender** refering to the total number for each **Gender**"
   ]
  },
  {
   "cell_type": "code",
   "execution_count": 25,
   "metadata": {
    "scrolled": true
   },
   "outputs": [
    {
     "data": {
      "image/png": "[encoded data removed]",
      "text/plain": [
       "<Figure size 432x288 with 1 Axes>"
      ]
     },
     "metadata": {},
     "output_type": "display_data"
    }
   ],
   "source": [
    "## Creating Pie Chart for Each Gender to present No Show Percentage\n",
    "m_percentage = np.array([m_yes_count, m_no_count])\n",
    "m_labels = [\"No Show Males\", \"Attended Males\"]\n",
    "colors = ['r','b']\n",
    "\n",
    "plt.pie(m_percentage, \n",
    "        labels = m_labels, \n",
    "        colors = colors, \n",
    "        explode = (0.05,0), autopct = lambda p : '{:0.0f}%'.format(p))\n",
    "plt.legend(loc='center left', bbox_to_anchor=(1, 0.5),title=\"No Show\", title_fontsize = 12);"
   ]
  },
  {
   "cell_type": "code",
   "execution_count": 26,
   "metadata": {},
   "outputs": [
    {
     "data": {
      "image/png": "[encoded data removed]",
      "text/plain": [
       "<Figure size 432x288 with 1 Axes>"
      ]
     },
     "metadata": {},
     "output_type": "display_data"
    }
   ],
   "source": [
    "f_percentage = np.array([f_yes_count, f_no_count])\n",
    "f_labels = [\"No Show Females\", \"Attended Females\"]\n",
    "plt.pie(f_percentage, \n",
    "        labels = f_labels, \n",
    "        colors = colors, \n",
    "        explode = (0.05,0), autopct = lambda p : '{:0.0f}%'.format(p))\n",
    "plt.legend(loc='center left', bbox_to_anchor=(1, 0.5),title=\"No Show\", title_fontsize = 12);"
   ]
  },
  {
   "cell_type": "markdown",
   "metadata": {},
   "source": [
    "Now we reached an answer to out question, Both Genders have approximately the same percentage of Being **No Show** which means that **Gender has no relation with No Show**"
   ]
  },
  {
   "cell_type": "markdown",
   "metadata": {},
   "source": [
    "### Research Question 2 \n",
    "#### Is there any relation between the Age and Being No-Show??"
   ]
  },
  {
   "cell_type": "markdown",
   "metadata": {},
   "source": [
    "First of all, we need to see the Age Levels Distribution along the sample.\n",
    "\n",
    "As an initial step, we can plot a histgram for tha age"
   ]
  },
  {
   "cell_type": "code",
   "execution_count": 27,
   "metadata": {
    "scrolled": false
   },
   "outputs": [
    {
     "data": {
      "image/png": "[encoded data removed]",
      "text/plain": [
       "<Figure size 432x432 with 1 Axes>"
      ]
     },
     "metadata": {
      "needs_background": "light"
     },
     "output_type": "display_data"
    }
   ],
   "source": [
    "## Plotting Histogram for Ages.\n",
    "\n",
    "df['Age'].hist(figsize = (6,6));\n",
    "plt.title('Age Distribution'.title(),\n",
    "               fontsize = 14, weight = \"bold\")\n",
    "\n",
    "plt.xlabel('Age(Years)'.title(),\n",
    "               fontsize = 10, weight = \"bold\")\n",
    "\n",
    "plt.ylabel('Count'.title(),\n",
    "               fontsize = 10, weight = \"bold\");"
   ]
  },
  {
   "cell_type": "markdown",
   "metadata": {},
   "source": [
    "We will divide the age ranges as Min, 25%, 50%, 75%, Max"
   ]
  },
  {
   "cell_type": "code",
   "execution_count": 28,
   "metadata": {},
   "outputs": [
    {
     "data": {
      "text/html": [
       "<div>\n",
       "<style scoped>\n",
       "    .dataframe tbody tr th:only-of-type {\n",
       "        vertical-align: middle;\n",
       "    }\n",
       "\n",
       "    .dataframe tbody tr th {\n",
       "        vertical-align: top;\n",
       "    }\n",
       "\n",
       "    .dataframe thead th {\n",
       "        text-align: right;\n",
       "    }\n",
       "</style>\n",
       "<table border=\"1\" class=\"dataframe\">\n",
       "  <thead>\n",
       "    <tr style=\"text-align: right;\">\n",
       "      <th></th>\n",
       "      <th>Age</th>\n",
       "      <th>Scholarship</th>\n",
       "      <th>Hipertension</th>\n",
       "      <th>Diabetes</th>\n",
       "      <th>Alcoholism</th>\n",
       "      <th>Handcap</th>\n",
       "      <th>SMS_received</th>\n",
       "    </tr>\n",
       "  </thead>\n",
       "  <tbody>\n",
       "    <tr>\n",
       "      <th>count</th>\n",
       "      <td>109891.000000</td>\n",
       "      <td>109891.000000</td>\n",
       "      <td>109891.000000</td>\n",
       "      <td>109891.000000</td>\n",
       "      <td>109891.000000</td>\n",
       "      <td>109891.000000</td>\n",
       "      <td>109891.000000</td>\n",
       "    </tr>\n",
       "    <tr>\n",
       "      <th>mean</th>\n",
       "      <td>37.089853</td>\n",
       "      <td>0.098288</td>\n",
       "      <td>0.197250</td>\n",
       "      <td>0.071826</td>\n",
       "      <td>0.030430</td>\n",
       "      <td>0.022131</td>\n",
       "      <td>0.322884</td>\n",
       "    </tr>\n",
       "    <tr>\n",
       "      <th>std</th>\n",
       "      <td>23.121015</td>\n",
       "      <td>0.297705</td>\n",
       "      <td>0.397924</td>\n",
       "      <td>0.258200</td>\n",
       "      <td>0.171769</td>\n",
       "      <td>0.160879</td>\n",
       "      <td>0.467581</td>\n",
       "    </tr>\n",
       "    <tr>\n",
       "      <th>min</th>\n",
       "      <td>0.000000</td>\n",
       "      <td>0.000000</td>\n",
       "      <td>0.000000</td>\n",
       "      <td>0.000000</td>\n",
       "      <td>0.000000</td>\n",
       "      <td>0.000000</td>\n",
       "      <td>0.000000</td>\n",
       "    </tr>\n",
       "    <tr>\n",
       "      <th>25%</th>\n",
       "      <td>18.000000</td>\n",
       "      <td>0.000000</td>\n",
       "      <td>0.000000</td>\n",
       "      <td>0.000000</td>\n",
       "      <td>0.000000</td>\n",
       "      <td>0.000000</td>\n",
       "      <td>0.000000</td>\n",
       "    </tr>\n",
       "    <tr>\n",
       "      <th>50%</th>\n",
       "      <td>37.000000</td>\n",
       "      <td>0.000000</td>\n",
       "      <td>0.000000</td>\n",
       "      <td>0.000000</td>\n",
       "      <td>0.000000</td>\n",
       "      <td>0.000000</td>\n",
       "      <td>0.000000</td>\n",
       "    </tr>\n",
       "    <tr>\n",
       "      <th>75%</th>\n",
       "      <td>55.000000</td>\n",
       "      <td>0.000000</td>\n",
       "      <td>0.000000</td>\n",
       "      <td>0.000000</td>\n",
       "      <td>0.000000</td>\n",
       "      <td>0.000000</td>\n",
       "      <td>1.000000</td>\n",
       "    </tr>\n",
       "    <tr>\n",
       "      <th>max</th>\n",
       "      <td>115.000000</td>\n",
       "      <td>1.000000</td>\n",
       "      <td>1.000000</td>\n",
       "      <td>1.000000</td>\n",
       "      <td>1.000000</td>\n",
       "      <td>4.000000</td>\n",
       "      <td>1.000000</td>\n",
       "    </tr>\n",
       "  </tbody>\n",
       "</table>\n",
       "</div>"
      ],
      "text/plain": [
       "                 Age    Scholarship   Hipertension       Diabetes  \\\n",
       "count  109891.000000  109891.000000  109891.000000  109891.000000   \n",
       "mean       37.089853       0.098288       0.197250       0.071826   \n",
       "std        23.121015       0.297705       0.397924       0.258200   \n",
       "min         0.000000       0.000000       0.000000       0.000000   \n",
       "25%        18.000000       0.000000       0.000000       0.000000   \n",
       "50%        37.000000       0.000000       0.000000       0.000000   \n",
       "75%        55.000000       0.000000       0.000000       0.000000   \n",
       "max       115.000000       1.000000       1.000000       1.000000   \n",
       "\n",
       "          Alcoholism        Handcap   SMS_received  \n",
       "count  109891.000000  109891.000000  109891.000000  \n",
       "mean        0.030430       0.022131       0.322884  \n",
       "std         0.171769       0.160879       0.467581  \n",
       "min         0.000000       0.000000       0.000000  \n",
       "25%         0.000000       0.000000       0.000000  \n",
       "50%         0.000000       0.000000       0.000000  \n",
       "75%         0.000000       0.000000       1.000000  \n",
       "max         1.000000       4.000000       1.000000  "
      ]
     },
     "execution_count": 28,
     "metadata": {},
     "output_type": "execute_result"
    }
   ],
   "source": [
    "df.describe()"
   ]
  },
  {
   "cell_type": "markdown",
   "metadata": {},
   "source": [
    "We need to study the age by ranging to \n",
    "\n",
    "    - Min             (0)\n",
    "    - Children(25%)   (0-18)\n",
    "    - Youths(50%)     (19-37)\n",
    "    - MidYears(75%)   (38-55)\n",
    "    - Elders          (56-115)\n",
    "    - Max             (115)\n",
    "    \n",
    "We will set the bin Edges as follow [0, 18, 37, 55, 115]\n",
    "\n",
    "And we will set the bin Labels as follow ['Children', 'Youths', 'MidYears', 'Elders']"
   ]
  },
  {
   "cell_type": "code",
   "execution_count": 29,
   "metadata": {},
   "outputs": [],
   "source": [
    "## Creating Bins and Bins Names for each Age Level\n",
    "bin_edges = [0,18,37,55,115]\n",
    "bin_names = ['Children', 'Youths', 'MidYears', 'Elders']"
   ]
  },
  {
   "cell_type": "markdown",
   "metadata": {},
   "source": [
    "We will use cut( ) function to cut the ages with the previous Levels"
   ]
  },
  {
   "cell_type": "code",
   "execution_count": 30,
   "metadata": {
    "scrolled": false
   },
   "outputs": [
    {
     "data": {
      "text/html": [
       "<div>\n",
       "<style scoped>\n",
       "    .dataframe tbody tr th:only-of-type {\n",
       "        vertical-align: middle;\n",
       "    }\n",
       "\n",
       "    .dataframe tbody tr th {\n",
       "        vertical-align: top;\n",
       "    }\n",
       "\n",
       "    .dataframe thead th {\n",
       "        text-align: right;\n",
       "    }\n",
       "</style>\n",
       "<table border=\"1\" class=\"dataframe\">\n",
       "  <thead>\n",
       "    <tr style=\"text-align: right;\">\n",
       "      <th></th>\n",
       "      <th>Gender</th>\n",
       "      <th>ScheduledDay</th>\n",
       "      <th>AppointmentDay</th>\n",
       "      <th>Age</th>\n",
       "      <th>Neighbourhood</th>\n",
       "      <th>Scholarship</th>\n",
       "      <th>Hipertension</th>\n",
       "      <th>Diabetes</th>\n",
       "      <th>Alcoholism</th>\n",
       "      <th>Handcap</th>\n",
       "      <th>SMS_received</th>\n",
       "      <th>No-show</th>\n",
       "      <th>Age_level</th>\n",
       "    </tr>\n",
       "  </thead>\n",
       "  <tbody>\n",
       "    <tr>\n",
       "      <th>0</th>\n",
       "      <td>F</td>\n",
       "      <td>2016-04-29T18:38:08Z</td>\n",
       "      <td>2016-04-29T00:00:00Z</td>\n",
       "      <td>62</td>\n",
       "      <td>JARDIM DA PENHA</td>\n",
       "      <td>0</td>\n",
       "      <td>1</td>\n",
       "      <td>0</td>\n",
       "      <td>0</td>\n",
       "      <td>0</td>\n",
       "      <td>0</td>\n",
       "      <td>No</td>\n",
       "      <td>Elders</td>\n",
       "    </tr>\n",
       "    <tr>\n",
       "      <th>1</th>\n",
       "      <td>M</td>\n",
       "      <td>2016-04-29T16:08:27Z</td>\n",
       "      <td>2016-04-29T00:00:00Z</td>\n",
       "      <td>56</td>\n",
       "      <td>JARDIM DA PENHA</td>\n",
       "      <td>0</td>\n",
       "      <td>0</td>\n",
       "      <td>0</td>\n",
       "      <td>0</td>\n",
       "      <td>0</td>\n",
       "      <td>0</td>\n",
       "      <td>No</td>\n",
       "      <td>Elders</td>\n",
       "    </tr>\n",
       "    <tr>\n",
       "      <th>2</th>\n",
       "      <td>F</td>\n",
       "      <td>2016-04-29T16:19:04Z</td>\n",
       "      <td>2016-04-29T00:00:00Z</td>\n",
       "      <td>62</td>\n",
       "      <td>MATA DA PRAIA</td>\n",
       "      <td>0</td>\n",
       "      <td>0</td>\n",
       "      <td>0</td>\n",
       "      <td>0</td>\n",
       "      <td>0</td>\n",
       "      <td>0</td>\n",
       "      <td>No</td>\n",
       "      <td>Elders</td>\n",
       "    </tr>\n",
       "    <tr>\n",
       "      <th>3</th>\n",
       "      <td>F</td>\n",
       "      <td>2016-04-29T17:29:31Z</td>\n",
       "      <td>2016-04-29T00:00:00Z</td>\n",
       "      <td>8</td>\n",
       "      <td>PONTAL DE CAMBURI</td>\n",
       "      <td>0</td>\n",
       "      <td>0</td>\n",
       "      <td>0</td>\n",
       "      <td>0</td>\n",
       "      <td>0</td>\n",
       "      <td>0</td>\n",
       "      <td>No</td>\n",
       "      <td>Children</td>\n",
       "    </tr>\n",
       "    <tr>\n",
       "      <th>4</th>\n",
       "      <td>F</td>\n",
       "      <td>2016-04-29T16:07:23Z</td>\n",
       "      <td>2016-04-29T00:00:00Z</td>\n",
       "      <td>56</td>\n",
       "      <td>JARDIM DA PENHA</td>\n",
       "      <td>0</td>\n",
       "      <td>1</td>\n",
       "      <td>1</td>\n",
       "      <td>0</td>\n",
       "      <td>0</td>\n",
       "      <td>0</td>\n",
       "      <td>No</td>\n",
       "      <td>Elders</td>\n",
       "    </tr>\n",
       "  </tbody>\n",
       "</table>\n",
       "</div>"
      ],
      "text/plain": [
       "  Gender          ScheduledDay        AppointmentDay  Age      Neighbourhood  \\\n",
       "0      F  2016-04-29T18:38:08Z  2016-04-29T00:00:00Z   62    JARDIM DA PENHA   \n",
       "1      M  2016-04-29T16:08:27Z  2016-04-29T00:00:00Z   56    JARDIM DA PENHA   \n",
       "2      F  2016-04-29T16:19:04Z  2016-04-29T00:00:00Z   62      MATA DA PRAIA   \n",
       "3      F  2016-04-29T17:29:31Z  2016-04-29T00:00:00Z    8  PONTAL DE CAMBURI   \n",
       "4      F  2016-04-29T16:07:23Z  2016-04-29T00:00:00Z   56    JARDIM DA PENHA   \n",
       "\n",
       "   Scholarship  Hipertension  Diabetes  Alcoholism  Handcap  SMS_received  \\\n",
       "0            0             1         0           0        0             0   \n",
       "1            0             0         0           0        0             0   \n",
       "2            0             0         0           0        0             0   \n",
       "3            0             0         0           0        0             0   \n",
       "4            0             1         1           0        0             0   \n",
       "\n",
       "  No-show Age_level  \n",
       "0      No    Elders  \n",
       "1      No    Elders  \n",
       "2      No    Elders  \n",
       "3      No  Children  \n",
       "4      No    Elders  "
      ]
     },
     "execution_count": 30,
     "metadata": {},
     "output_type": "execute_result"
    }
   ],
   "source": [
    "## Using Cut Method to Cut the ages into Levels\n",
    "\n",
    "df['Age_level'] = pd.cut(df['Age'], bin_edges, labels = bin_names)\n",
    "df.head()"
   ]
  },
  {
   "cell_type": "markdown",
   "metadata": {},
   "source": [
    "Now let's discover each Age Level Counts "
   ]
  },
  {
   "cell_type": "code",
   "execution_count": 31,
   "metadata": {},
   "outputs": [
    {
     "data": {
      "image/png": "[encoded data removed]",
      "text/plain": [
       "<Figure size 432x288 with 1 Axes>"
      ]
     },
     "metadata": {
      "needs_background": "light"
     },
     "output_type": "display_data"
    }
   ],
   "source": [
    "##Drawing Bar Chart showing Each Age Level Count\n",
    "\n",
    "df['Age_level'].value_counts().plot(kind = 'bar', figsize = (6,4));\n",
    "plt.title('Age Level Distribution'.title(),\n",
    "               fontsize = 14, weight = \"bold\")\n",
    "plt.xlabel('Age Level'.title(),\n",
    "               fontsize = 10, weight = \"bold\")\n",
    "plt.ylabel('Count'.title(),\n",
    "               fontsize = 10, weight = \"bold\");"
   ]
  },
  {
   "cell_type": "markdown",
   "metadata": {},
   "source": [
    "Finally, we will plot the **No-Show** cases according to the **Age Levels** created above , **we will make it with the same index of the previous graph**"
   ]
  },
  {
   "cell_type": "code",
   "execution_count": 32,
   "metadata": {},
   "outputs": [],
   "source": [
    "index = df['Age_level'].value_counts().index"
   ]
  },
  {
   "cell_type": "code",
   "execution_count": 33,
   "metadata": {
    "scrolled": true
   },
   "outputs": [
    {
     "data": {
      "text/html": [
       "<div>\n",
       "<style scoped>\n",
       "    .dataframe tbody tr th:only-of-type {\n",
       "        vertical-align: middle;\n",
       "    }\n",
       "\n",
       "    .dataframe tbody tr th {\n",
       "        vertical-align: top;\n",
       "    }\n",
       "\n",
       "    .dataframe thead th {\n",
       "        text-align: right;\n",
       "    }\n",
       "</style>\n",
       "<table border=\"1\" class=\"dataframe\">\n",
       "  <thead>\n",
       "    <tr style=\"text-align: right;\">\n",
       "      <th></th>\n",
       "      <th>Gender</th>\n",
       "      <th>ScheduledDay</th>\n",
       "      <th>AppointmentDay</th>\n",
       "      <th>Age</th>\n",
       "      <th>Neighbourhood</th>\n",
       "      <th>Scholarship</th>\n",
       "      <th>Hipertension</th>\n",
       "      <th>Diabetes</th>\n",
       "      <th>Alcoholism</th>\n",
       "      <th>Handcap</th>\n",
       "      <th>SMS_received</th>\n",
       "      <th>No-show</th>\n",
       "      <th>Age_level</th>\n",
       "    </tr>\n",
       "  </thead>\n",
       "  <tbody>\n",
       "    <tr>\n",
       "      <th>6</th>\n",
       "      <td>F</td>\n",
       "      <td>2016-04-27T15:05:12Z</td>\n",
       "      <td>2016-04-29T00:00:00Z</td>\n",
       "      <td>23</td>\n",
       "      <td>GOIABEIRAS</td>\n",
       "      <td>0</td>\n",
       "      <td>0</td>\n",
       "      <td>0</td>\n",
       "      <td>0</td>\n",
       "      <td>0</td>\n",
       "      <td>0</td>\n",
       "      <td>Yes</td>\n",
       "      <td>Youths</td>\n",
       "    </tr>\n",
       "    <tr>\n",
       "      <th>7</th>\n",
       "      <td>F</td>\n",
       "      <td>2016-04-27T15:39:58Z</td>\n",
       "      <td>2016-04-29T00:00:00Z</td>\n",
       "      <td>39</td>\n",
       "      <td>GOIABEIRAS</td>\n",
       "      <td>0</td>\n",
       "      <td>0</td>\n",
       "      <td>0</td>\n",
       "      <td>0</td>\n",
       "      <td>0</td>\n",
       "      <td>0</td>\n",
       "      <td>Yes</td>\n",
       "      <td>MidYears</td>\n",
       "    </tr>\n",
       "    <tr>\n",
       "      <th>11</th>\n",
       "      <td>M</td>\n",
       "      <td>2016-04-26T08:44:12Z</td>\n",
       "      <td>2016-04-29T00:00:00Z</td>\n",
       "      <td>29</td>\n",
       "      <td>NOVA PALESTINA</td>\n",
       "      <td>0</td>\n",
       "      <td>0</td>\n",
       "      <td>0</td>\n",
       "      <td>0</td>\n",
       "      <td>0</td>\n",
       "      <td>1</td>\n",
       "      <td>Yes</td>\n",
       "      <td>Youths</td>\n",
       "    </tr>\n",
       "    <tr>\n",
       "      <th>17</th>\n",
       "      <td>F</td>\n",
       "      <td>2016-04-28T09:28:57Z</td>\n",
       "      <td>2016-04-29T00:00:00Z</td>\n",
       "      <td>40</td>\n",
       "      <td>CONQUISTA</td>\n",
       "      <td>1</td>\n",
       "      <td>0</td>\n",
       "      <td>0</td>\n",
       "      <td>0</td>\n",
       "      <td>0</td>\n",
       "      <td>0</td>\n",
       "      <td>Yes</td>\n",
       "      <td>MidYears</td>\n",
       "    </tr>\n",
       "    <tr>\n",
       "      <th>20</th>\n",
       "      <td>F</td>\n",
       "      <td>2016-04-27T07:51:14Z</td>\n",
       "      <td>2016-04-29T00:00:00Z</td>\n",
       "      <td>30</td>\n",
       "      <td>NOVA PALESTINA</td>\n",
       "      <td>0</td>\n",
       "      <td>0</td>\n",
       "      <td>0</td>\n",
       "      <td>0</td>\n",
       "      <td>0</td>\n",
       "      <td>0</td>\n",
       "      <td>Yes</td>\n",
       "      <td>Youths</td>\n",
       "    </tr>\n",
       "  </tbody>\n",
       "</table>\n",
       "</div>"
      ],
      "text/plain": [
       "   Gender          ScheduledDay        AppointmentDay  Age   Neighbourhood  \\\n",
       "6       F  2016-04-27T15:05:12Z  2016-04-29T00:00:00Z   23      GOIABEIRAS   \n",
       "7       F  2016-04-27T15:39:58Z  2016-04-29T00:00:00Z   39      GOIABEIRAS   \n",
       "11      M  2016-04-26T08:44:12Z  2016-04-29T00:00:00Z   29  NOVA PALESTINA   \n",
       "17      F  2016-04-28T09:28:57Z  2016-04-29T00:00:00Z   40       CONQUISTA   \n",
       "20      F  2016-04-27T07:51:14Z  2016-04-29T00:00:00Z   30  NOVA PALESTINA   \n",
       "\n",
       "    Scholarship  Hipertension  Diabetes  Alcoholism  Handcap  SMS_received  \\\n",
       "6             0             0         0           0        0             0   \n",
       "7             0             0         0           0        0             0   \n",
       "11            0             0         0           0        0             1   \n",
       "17            1             0         0           0        0             0   \n",
       "20            0             0         0           0        0             0   \n",
       "\n",
       "   No-show Age_level  \n",
       "6      Yes    Youths  \n",
       "7      Yes  MidYears  \n",
       "11     Yes    Youths  \n",
       "17     Yes  MidYears  \n",
       "20     Yes    Youths  "
      ]
     },
     "execution_count": 33,
     "metadata": {},
     "output_type": "execute_result"
    }
   ],
   "source": [
    "df_yes = df[df['No-show'] == 'Yes']\n",
    "df_yes.head()"
   ]
  },
  {
   "cell_type": "code",
   "execution_count": 34,
   "metadata": {},
   "outputs": [
    {
     "data": {
      "image/png": "[encoded data removed]",
      "text/plain": [
       "<Figure size 432x288 with 1 Axes>"
      ]
     },
     "metadata": {
      "needs_background": "light"
     },
     "output_type": "display_data"
    }
   ],
   "source": [
    "df_yes['Age_level'].value_counts()[index].plot(kind = 'bar', figsize = (6,4));\n",
    "plt.title('Age Levels No Show Distribution '.title(),\n",
    "               fontsize = 14, weight = \"bold\")\n",
    "\n",
    "plt.xlabel('Level'.title(),\n",
    "               fontsize = 10, weight = \"bold\")\n",
    "# Add y label and format it\n",
    "plt.ylabel('Count'.title(),\n",
    "               fontsize = 10, weight = \"bold\");"
   ]
  },
  {
   "cell_type": "markdown",
   "metadata": {},
   "source": [
    "As we see, Youths Levels are the most to be No-Show, then Children, reaching to MidYears and Finally Elders.\n",
    "\n",
    "Again this might be a tricky analysis!! So let's analize deeply each Age Level whether to tend to a **No Show**"
   ]
  },
  {
   "cell_type": "code",
   "execution_count": 35,
   "metadata": {},
   "outputs": [],
   "source": [
    "#Creating Lists for each Level to show its No Show Percentage\n",
    "#levels array\n",
    "age_levels = [\"Elders\",\"MidYears\",\"Youths\",\"Children\"]\n",
    "#No show Array\n",
    "age_levels_yes = []\n",
    "#Show Array\n",
    "age_levels_no = []\n"
   ]
  },
  {
   "cell_type": "markdown",
   "metadata": {},
   "source": [
    "Firstly let's make Lists, in another word; containers for the following data \n",
    "\n",
    "    - Age Levels List                                   (\"age_levels\")\n",
    "    - Number for each Age Level that are No Show        (\"age_levels_yes\")\n",
    "    - Number for each Age Level that are not No Show    (\"age_levels_no\")\n",
    "    \n",
    " Now let's make a for loop to fill these containers"
   ]
  },
  {
   "cell_type": "code",
   "execution_count": 36,
   "metadata": {},
   "outputs": [
    {
     "name": "stdout",
     "output_type": "stream",
     "text": [
      "List of Being a No Show Numbers is [4259, 5198, 6341, 5664] on the same order of ['Elders', 'MidYears', 'Youths', 'Children']\n",
      "List of Not Being a No Show Numbers is [23112, 21553, 20709, 19525] on the same order of ['Elders', 'MidYears', 'Youths', 'Children']\n"
     ]
    }
   ],
   "source": [
    "##For Loop to fill the Yes/ No Arrays\n",
    "for level in age_levels:\n",
    "    age_levels_yes.append(len(df[(df['Age_level'] == level) & (df['No-show'] == 'Yes')]))\n",
    "    age_levels_no.append(len(df[(df['Age_level'] == level) & (df['No-show'] == 'No')]))\n",
    "print(\"List of Being a No Show Numbers is {} on the same order of {}\".format(age_levels_yes, age_levels))\n",
    "print(\"List of Not Being a No Show Numbers is {} on the same order of {}\".format(age_levels_no, age_levels))"
   ]
  },
  {
   "cell_type": "markdown",
   "metadata": {},
   "source": [
    "Now let's graph each Level with two Bars representing No Show and Not a No Show"
   ]
  },
  {
   "cell_type": "code",
   "execution_count": 37,
   "metadata": {
    "scrolled": true
   },
   "outputs": [
    {
     "data": {
      "image/png": "[encoded data removed]",
      "text/plain": [
       "<Figure size 432x288 with 1 Axes>"
      ]
     },
     "metadata": {
      "needs_background": "light"
     },
     "output_type": "display_data"
    }
   ],
   "source": [
    "width = 0.25\n",
    "age_levels_yes_br = np.arange(len(age_levels_yes))\n",
    "age_levels_no_br = [x + width for x in age_levels_yes_br]\n",
    "plt.bar(age_levels_yes_br, age_levels_yes, color = 'r', width = width, edgecolor = 'grey', label = 'No Show')\n",
    "plt.bar(age_levels_no_br, age_levels_no, color = 'w', width = width , edgecolor = 'grey', label = 'Attended')\n",
    "plt.xticks([r + width/2 for r in range(len(age_levels_yes_br))], age_levels)\n",
    "plt.title('No Show Percentage for Each Level'.title(),\n",
    "               fontsize = 14, weight = \"bold\")\n",
    "\n",
    "plt.xlabel('Levels'.title(),\n",
    "               fontsize = 10, weight = \"bold\")\n",
    "\n",
    "plt.ylabel('Counts'.title(),\n",
    "               fontsize = 10, weight = \"bold\")\n",
    "\n",
    "plt.legend(loc='center left', bbox_to_anchor=(1, 0.5),\n",
    "           title=\"No Show\", title_fontsize = 12);\n",
    "plt.show();"
   ]
  },
  {
   "cell_type": "markdown",
   "metadata": {},
   "source": [
    "Now we reach to the answer of the question: **Children** are the most in tendency to cancel their visit; **No Show**, then **Youths**, **MidYears** and finally the **Elders** "
   ]
  },
  {
   "cell_type": "markdown",
   "metadata": {},
   "source": [
    "### Research Question 3\n",
    "#### Relation between Being No-Show and The Neighbourhood"
   ]
  },
  {
   "cell_type": "markdown",
   "metadata": {},
   "source": [
    "Let's discover the highest locations that people from tends to get no Show"
   ]
  },
  {
   "cell_type": "code",
   "execution_count": 38,
   "metadata": {
    "scrolled": true
   },
   "outputs": [
    {
     "name": "stdout",
     "output_type": "stream",
     "text": [
      "Largest 5 Neighbourhoods in No Show Counts is: \n",
      "\n",
      "JARDIM CAMBURI       1429\n",
      "MARIA ORTIZ          1219\n",
      "ITARARÉ               902\n",
      "RESISTÊNCIA           885\n",
      "JESUS DE NAZARETH     695\n",
      "Name: Neighbourhood, dtype: int64\n"
     ]
    }
   ],
   "source": [
    "#Get the highest 5 Neighbourhoods to no show\n",
    "highest_counts_yes = df_yes[\"Neighbourhood\"].value_counts().head()\n",
    "print(\"Largest 5 Neighbourhoods in No Show Counts is: \\n\\n{}\".format(highest_counts_yes))"
   ]
  },
  {
   "cell_type": "markdown",
   "metadata": {},
   "source": [
    "Here we can notice the highest 5 Neighbourhoods to show No Show Counts\n",
    "\n",
    "    - JARDIM CAMBURI       1429\n",
    "    - MARIA ORTIZ          1219\n",
    "    - ITARARÉ               902\n",
    "    - RESISTÊNCIA           885\n",
    "    - JESUS DE NAZARETH     695"
   ]
  },
  {
   "cell_type": "code",
   "execution_count": 39,
   "metadata": {},
   "outputs": [
    {
     "data": {
      "image/png": "[encoded data removed]",
      "text/plain": [
       "<Figure size 432x288 with 1 Axes>"
      ]
     },
     "metadata": {
      "needs_background": "light"
     },
     "output_type": "display_data"
    }
   ],
   "source": [
    "highest_counts_yes.plot(kind = 'bar', figsize = (6,4));\n",
    "plt.title('Highest Neighbourhood Counts'.title(),\n",
    "               fontsize = 14, weight = \"bold\")\n",
    "# Add x label and format it\n",
    "plt.xlabel('Neighbourhood'.title(),\n",
    "               fontsize = 10, weight = \"bold\")\n",
    "# Add y label and format it\n",
    "plt.ylabel('Count'.title(),\n",
    "               fontsize = 10, weight = \"bold\");"
   ]
  },
  {
   "cell_type": "markdown",
   "metadata": {},
   "source": [
    "Again, here we have a tricky statistic, to correctly show this one we need to know the percentage of **No Show** per **Total Counts** for each city"
   ]
  },
  {
   "cell_type": "code",
   "execution_count": 40,
   "metadata": {
    "scrolled": true
   },
   "outputs": [
    {
     "name": "stdout",
     "output_type": "stream",
     "text": [
      "Highest **No Show** Neighbourhdoods Array is\n",
      "['JARDIM CAMBURI' 'MARIA ORTIZ' 'ITARARÉ' 'RESISTÊNCIA'\n",
      " 'JESUS DE NAZARETH'] \n",
      "\n",
      "Highest **No Show** Neighbourhoods total counts is\n",
      "[7616, 5804, 3470, 4387, 2852]\n"
     ]
    }
   ],
   "source": [
    "Neighbourhood_array = np.array(highest_counts_yes.index.values)\n",
    "print(\"Highest **No Show** Neighbourhdoods Array is\\n{} \\n\".format(Neighbourhood_array))\n",
    "#Container for Total Counts for the highest\n",
    "total_counts =[]\n",
    "for Neighbourhood in Neighbourhood_array:\n",
    "      #DataFrame of each Neighbourhood of the Array\n",
    "      df_neighbourhood = df[df['Neighbourhood'] == Neighbourhood]\n",
    "      #Count of each Neighbourhood of the Array\n",
    "      count = int(df_neighbourhood['Neighbourhood'].value_counts().values)\n",
    "      total_counts.append(count)\n",
    "\n",
    "print(\"Highest **No Show** Neighbourhoods total counts is\\n{}\".format(total_counts))"
   ]
  },
  {
   "cell_type": "markdown",
   "metadata": {},
   "source": [
    "Now let's graph the percentage per each Neighbourhood"
   ]
  },
  {
   "cell_type": "code",
   "execution_count": 41,
   "metadata": {
    "scrolled": true
   },
   "outputs": [
    {
     "data": {
      "image/png": "[encoded data removed]",
      "text/plain": [
       "<Figure size 648x360 with 1 Axes>"
      ]
     },
     "metadata": {
      "needs_background": "light"
     },
     "output_type": "display_data"
    }
   ],
   "source": [
    "fig = plt.subplots(figsize =(9, 5))\n",
    "width = 0.3\n",
    "yes_br = np.arange(len(Neighbourhood_array))\n",
    "total_br = [x + width for x in yes_br]\n",
    "plt.bar(yes_br, highest_counts_yes.values, color = 'r', width = width, edgecolor = 'grey', label = 'No Show')\n",
    "plt.bar(total_br, total_counts, color = 'w', width = width , edgecolor = 'grey', label = 'Total')\n",
    "plt.xticks([r + width/2 for r in range(len(yes_br))], Neighbourhood_array)\n",
    "plt.title('No Show Percentage for each Neighbourhood'.title(),\n",
    "               fontsize = 14, weight = \"bold\")\n",
    "plt.xlabel('Neighbourhood'.title(),\n",
    "               fontsize = 10, weight = \"bold\")\n",
    "plt.ylabel('Count'.title(),\n",
    "               fontsize = 10, weight = \"bold\")\n",
    "plt.legend(loc='center left', bbox_to_anchor=(1, 0.5),\n",
    "           title=\"No Show\", title_fontsize = 12)\n",
    "plt.show();"
   ]
  },
  {
   "cell_type": "markdown",
   "metadata": {},
   "source": [
    "Now we have tha most accurate data;\n",
    "\n",
    "People from **ITRARE, JESUS DE NAZARETH** show the most tendency to be **No Show**"
   ]
  },
  {
   "cell_type": "markdown",
   "metadata": {},
   "source": [
    "### Research Question 4\n",
    "#### Relation between Being No-Show and having Scholarship, Hipertension, Diabetes, Alcoholism, Handicapped and Recieving SMS"
   ]
  },
  {
   "cell_type": "code",
   "execution_count": 42,
   "metadata": {},
   "outputs": [
    {
     "name": "stdout",
     "output_type": "stream",
     "text": [
      "Count of having Scholarship is 10801\n"
     ]
    }
   ],
   "source": [
    "#Creating Scholar DF\n",
    "df_scholar = create_my_df(df, 'Scholarship', 1)\n",
    "print(\"Count of having Scholarship is {}\".format(len(df_scholar)))"
   ]
  },
  {
   "cell_type": "code",
   "execution_count": 43,
   "metadata": {},
   "outputs": [
    {
     "name": "stdout",
     "output_type": "stream",
     "text": [
      "Count of having Hipertension is 21676\n"
     ]
    }
   ],
   "source": [
    "#Creating Hiper DF\n",
    "df_hiper = create_my_df(df,'Hipertension', 1)\n",
    "print(\"Count of having Hipertension is {}\".format(len(df_hiper)))"
   ]
  },
  {
   "cell_type": "code",
   "execution_count": 44,
   "metadata": {
    "scrolled": true
   },
   "outputs": [
    {
     "name": "stdout",
     "output_type": "stream",
     "text": [
      "Count of having Diabetes is 7893\n"
     ]
    }
   ],
   "source": [
    "#Creating Diabetes DF\n",
    "df_diabetes = create_my_df(df,\"Diabetes\", 1)\n",
    "print(\"Count of having Diabetes is {}\".format(len(df_diabetes)))"
   ]
  },
  {
   "cell_type": "code",
   "execution_count": 45,
   "metadata": {},
   "outputs": [
    {
     "name": "stdout",
     "output_type": "stream",
     "text": [
      "Count of having Alcoholism is 3344\n"
     ]
    }
   ],
   "source": [
    "#Creating Alcoholism DF\n",
    "df_alcohol = create_my_df(df,'Alcoholism',1)\n",
    "print(\"Count of having Alcoholism is {}\".format(len(df_alcohol)))"
   ]
  },
  {
   "cell_type": "code",
   "execution_count": 46,
   "metadata": {},
   "outputs": [
    {
     "name": "stdout",
     "output_type": "stream",
     "text": [
      "Count of having Handicapped is 2023\n"
     ]
    }
   ],
   "source": [
    "#Creating Handcap DF\n",
    "df_handcap = create_my_df(df, 'Handcap', 1)\n",
    "print(\"Count of having Handicapped is {}\".format(len(df_handcap)))"
   ]
  },
  {
   "cell_type": "code",
   "execution_count": 47,
   "metadata": {},
   "outputs": [
    {
     "name": "stdout",
     "output_type": "stream",
     "text": [
      "Count of having SMS-Received is 35482\n"
     ]
    }
   ],
   "source": [
    "#Creating SMS DF\n",
    "df_SMS = create_my_df(df, 'SMS_received', 1)\n",
    "print(\"Count of having SMS-Received is {}\".format(len(df_SMS)))"
   ]
  },
  {
   "cell_type": "code",
   "execution_count": 48,
   "metadata": {},
   "outputs": [
    {
     "name": "stdout",
     "output_type": "stream",
     "text": [
      "\n",
      "Count of Each Special Case is [10801, 21676, 7893, 3344, 2023, 35482] \n",
      "as per the following order ['Scholarship', 'Hipertension', 'Diabetes', 'Alcoholism', 'Handcap', 'SMS_received']\n",
      " \n",
      " \n",
      "Count of No Show for each Special Case is [2556, 3728, 1422, 668, 358, 9784] \n",
      "as per the following order ['Scholarship', 'Hipertension', 'Diabetes', 'Alcoholism', 'Handcap', 'SMS_received']\n"
     ]
    }
   ],
   "source": [
    "##Creating Special Cases Array\n",
    "special_cases_array = ['Scholarship', 'Hipertension', 'Diabetes', 'Alcoholism', 'Handcap', 'SMS_received']\n",
    "#Creating Special Cases Counts Array\n",
    "special_cases_counts = [len(df[df[x] == 1]) for x in special_cases_array]\n",
    "#Creating Special Cases No Show Counts Array\n",
    "special_cases_yes_counts = [len(df_yes[df_yes[x] == 1]) for x in special_cases_array]\n",
    "\n",
    "print(\"\\nCount of Each Special Case is {} \\nas per the following order {}\\n \\n \"\n",
    "      .format(special_cases_counts,special_cases_array))\n",
    "\n",
    "\n",
    "print(\"Count of No Show for each Special Case is {} \\nas per the following order {}\"\n",
    "      .format(special_cases_yes_counts, special_cases_array))"
   ]
  },
  {
   "cell_type": "code",
   "execution_count": 49,
   "metadata": {},
   "outputs": [
    {
     "data": {
      "image/png": "[encoded data removed]",
      "text/plain": [
       "<Figure size 576x576 with 1 Axes>"
      ]
     },
     "metadata": {},
     "output_type": "display_data"
    }
   ],
   "source": [
    "colors = ['Red', 'Green', 'Yellow', 'Blue', 'Orange', 'Grey']\n",
    "fig = plt.subplots(figsize =(8, 8))\n",
    "plt.pie(special_cases_counts, \n",
    "        labels = special_cases_array, \n",
    "        colors = colors,\n",
    "        explode = (0,0,0,0,0,.015),\n",
    "        autopct = lambda p : '{:0.0f}%'.format(p),\n",
    "       )\n",
    "plt.title('Special Cases Counts'.title(),\n",
    "               fontsize = 14, weight = \"bold\")\n",
    "plt.legend(loc='center left', bbox_to_anchor=(1, 0.5),\n",
    "           title=\"Special Cases\", title_fontsize = 12);"
   ]
  },
  {
   "cell_type": "code",
   "execution_count": 50,
   "metadata": {},
   "outputs": [
    {
     "data": {
      "image/png": "[encoded data removed]",
      "text/plain": [
       "<Figure size 576x576 with 1 Axes>"
      ]
     },
     "metadata": {},
     "output_type": "display_data"
    }
   ],
   "source": [
    "colors = ['Red', 'Green', 'Yellow', 'Blue', 'Orange', 'Grey']\n",
    "fig = plt.subplots(figsize =(8, 8))\n",
    "plt.pie(special_cases_yes_counts, \n",
    "        labels = special_cases_array, \n",
    "        colors = colors,\n",
    "        explode = (0,0,0,0,0,0.015),\n",
    "        autopct = lambda p : '{:0.0f}%'.format(p) \n",
    "       )\n",
    "plt.title('Special Cases No Show Counts'.title(),\n",
    "               fontsize = 14, weight = \"bold\")\n",
    "plt.legend(loc='center left', bbox_to_anchor=(1, 0.5),\n",
    "           title=\"Special Cases\", title_fontsize = 12);"
   ]
  },
  {
   "cell_type": "markdown",
   "metadata": {},
   "source": [
    "Now we see that most of **No Show** cases **(Approximately 53%)** have recieved SMS. Which means that SMS hasn't any effect and we can make cost saving by Stopping Sending SMSs\n",
    "\n",
    "Handcap, Alcoholism, Diabetes showed only 14% of **No Show cases**, which means these diseases might not be an important point of study.\n",
    "\n",
    "\n",
    "Now let's make a deeper study for the remaining two points (Scholarship and Hipertension) that share approximately 14% and 20% respectibley of being **No Show**"
   ]
  },
  {
   "cell_type": "code",
   "execution_count": 51,
   "metadata": {},
   "outputs": [
    {
     "data": {
      "image/png": "[encoded data removed]",
      "text/plain": [
       "<Figure size 720x432 with 1 Axes>"
      ]
     },
     "metadata": {
      "needs_background": "light"
     },
     "output_type": "display_data"
    }
   ],
   "source": [
    "fig = plt.subplots(figsize =(10, 6))\n",
    "width = 0.25\n",
    "yes_br = np.arange(len(special_cases_yes_counts))\n",
    "total_br = [x + width for x in yes_br]\n",
    "plt.bar(yes_br, special_cases_yes_counts, color = 'r', width = width, edgecolor = 'grey', label = 'No Show')\n",
    "plt.bar(total_br, special_cases_counts, color = 'w', width = width , edgecolor = 'grey', label = 'Total')\n",
    "plt.xticks([r + width/2 for r in range(len(yes_br))], special_cases_array)\n",
    "plt.title('Special Cases No Show Percentage'.title(),\n",
    "               fontsize = 14, weight = \"bold\")\n",
    "plt.xlabel('Special Case'.title(),\n",
    "               fontsize = 10, weight = \"bold\")\n",
    "plt.ylabel('Count'.title(),\n",
    "               fontsize = 10, weight = \"bold\")\n",
    "plt.legend(loc='center left', bbox_to_anchor=(1, 0.5),\n",
    "           title=\"No Show\", title_fontsize = 12);\n",
    "plt.show();"
   ]
  },
  {
   "cell_type": "markdown",
   "metadata": {},
   "source": [
    "Now we see that about 25% of both Scholarship and Hipertension are **No Show**, which means no clear indication for any relation between Scholarship and **No Show**"
   ]
  },
  {
   "cell_type": "markdown",
   "metadata": {},
   "source": [
    "<a id='conclusions'></a>\n",
    "## Conclusions\n",
    "\n",
    "### Process Flow\n",
    "As we may gone through the project, we went through the following steps:\n",
    "    - We had cleaned our data frame\n",
    "    - we made some processing for the data\n",
    "    - we started with Gender Analysis\n",
    "    - we went to age studying\n",
    "    - Then we studied the neighbourhood effect\n",
    "    - Finally we showed concern to the Neighbouorhood Analysis\n",
    "    \n",
    "Through these steps we got the following Conclusions:\n",
    "\n",
    "### Conclusions\n",
    "- Both Genders have approximately the same percentage of Being **No Show** which means that **Gender has no relation with No Show**\n",
    "- Children** have the most in tendency to cancel their visit; **Being No Show**, then **Youths**, **MidYears** and finally the **Elders** \n",
    "- People from **ITRARE, JESUS DE NAZARETH** show the most tendency to be **No Show**\n",
    "- Most of **No Show** cases **(Approximately 53%)** have recieved SMS. Which means that SMS hasn't any effect and we can make cost saving by Stopping Sending SMSs\n",
    "- Handcap, Alcoholism, Diabetes showed only 14% of **No Show cases**, which means these diseases might not be an important point of study.\n",
    "\n",
    "### Limitations:\n",
    "\n",
    "- Although the data we had showed the neighbourhood, it didn't mention the distance between each neighbourhood and the clinic, in other words, we could't define if the distance between the patient location and the clinic is a paratmeter in defining the \"No Show\" Reasons or not.\n",
    "- Profession or Education also were two important parameters in defining no show cases that the data missed out."
   ]
  },
  {
   "cell_type": "markdown",
   "metadata": {},
   "source": [
    "<a id='resources'></a>\n",
    "## Resources:\n",
    "\n",
    "- https://www.w3schools.com/python/"
   ]
  }
 ],
 "metadata": {
  "kernelspec": {
   "display_name": "Python 3 (ipykernel)",
   "language": "python",
   "name": "python3"
  },
  "language_info": {
   "codemirror_mode": {
    "name": "ipython",
    "version": 3
   },
   "file_extension": ".py",
   "mimetype": "text/x-python",
   "name": "python",
   "nbconvert_exporter": "python",
   "pygments_lexer": "ipython3",
   "version": "3.9.7"
  }
 },
 "nbformat": 4,
 "nbformat_minor": 2
}
